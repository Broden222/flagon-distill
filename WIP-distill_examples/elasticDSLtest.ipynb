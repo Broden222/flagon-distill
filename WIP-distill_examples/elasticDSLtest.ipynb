{
 "cells": [
  {
   "cell_type": "code",
   "execution_count": 10,
   "metadata": {},
   "outputs": [
    {
     "name": "stdout",
     "output_type": "stream",
     "text": [
      "<Elasticsearch([{'host': 'localhost'}])>\n"
     ]
    }
   ],
   "source": [
    "from elasticsearch import Elasticsearch\n",
    "from elasticsearch_dsl import connections\n",
    "from elasticsearch_dsl import Search\n",
    "from elasticsearch_dsl import Q\n",
    "\n",
    "import numpy as np\n",
    "import pandas as pd\n",
    "import json\n",
    "\n",
    "#create new connection to test instance, given an alias 'flagonTest' for later reference\n",
    "#note: connections are easy enough such that examples are enough, no need for further abstraction\n",
    "flagonClient = connections.create_connection('flagonTest', hosts=['localhost'], timeout=60)\n",
    "\n",
    "#TODO describe connections\n",
    "\n",
    "#hello world test\n",
    "print(flagonClient)"
   ]
  },
  {
   "cell_type": "code",
   "execution_count": 2,
   "metadata": {},
   "outputs": [
    {
     "name": "stdout",
     "output_type": "stream",
     "text": [
      "21\n"
     ]
    }
   ],
   "source": [
    "#create new search object, using cluster alias and index name \n",
    "#TODO abstract to Query Builder\n",
    "AleS = Search(using='flagonTest', index=\"userale\") \\\n",
    "    .scan()\n",
    "    \n",
    "#execute search\n",
    "response = AleS.execute()\n",
    "\n",
    "#print Hello World test for total hits, should match kibana output\n",
    "print(response.hits.total)\n"
   ]
  },
  {
   "cell_type": "code",
   "execution_count": 3,
   "metadata": {},
   "outputs": [
    {
     "name": "stdout",
     "output_type": "stream",
     "text": [
      "3\n"
     ]
    }
   ],
   "source": [
    "#add query in search parameters, match on \"click\" events\n",
    "customSearch = AleS.query(\"match\", type=\"click\")\n",
    "\n",
    "response = customSearch.execute()\n",
    "\n",
    "print(response.hits.total)"
   ]
  },
  {
   "cell_type": "code",
   "execution_count": 11,
   "metadata": {},
   "outputs": [
    {
     "name": "stdout",
     "output_type": "stream",
     "text": [
      "{'query': {'bool': {'filter': [{'term': {'target': 'a.ui big blue button'}}], 'must': [{'match': {'type': 'click'}}]}}}\n"
     ]
    }
   ],
   "source": [
    "print(customSearch.to_dict())"
   ]
  },
  {
   "cell_type": "code",
   "execution_count": 5,
   "metadata": {},
   "outputs": [
    {
     "name": "stdout",
     "output_type": "stream",
     "text": [
      "{'took': 16, 'timed_out': False, '_shards': {'total': 1, 'successful': 1, 'skipped': 0, 'failed': 0}, 'hits': {'total': 3, 'max_score': 1.8382794, 'hits': [{'_index': 'userale', '_type': 'doc', '_id': 'kJYOV20B7YNHv2dPpmwB', '_score': 1.8382794, '_source': {'path': ['a.ui big red button', 'div.ui center aligned text container', 'div.ui very padded vertical segment', 'div.main-wrapper', 'body', 'html', '#document', 'Window'], 'userId': None, 'useraleVersion': 'demo', 'location': {'x': 462, 'y': 688}, 'toolName': None, 'toolVersion': None, 'clientTime': 1569123638986, 'details': {'alt': False, 'shift': False, 'meta': False, 'clicks': 1, 'ctrl': False}, '@timestamp': '2019-09-22T03:40:39.613Z', 'tags': ['_grokparsefailure'], 'type': 'click', 'host': '172.18.0.1', 'target': 'a.ui big red button', 'userAction': True}}, {'_index': 'userale', '_type': 'doc', '_id': 'mJYPV20B7YNHv2dPIGw7', '_score': 1.8382794, '_source': {'path': ['a.ui big blue button', 'div.ui center aligned text container', 'div.ui very padded vertical segment', 'div.main-wrapper', 'body', 'html', '#document', 'Window'], 'userId': None, 'useraleVersion': 'demo', 'location': {'x': 657, 'y': 705}, 'toolName': None, 'toolVersion': None, 'clientTime': 1569123669151, 'details': {'alt': False, 'shift': False, 'meta': False, 'clicks': 1, 'ctrl': False}, '@timestamp': '2019-09-22T03:41:11.890Z', 'tags': ['_grokparsefailure'], 'type': 'click', 'host': '172.18.0.1', 'target': 'a.ui big blue button', 'userAction': True}}, {'_index': 'userale', '_type': 'doc', '_id': 'pJYPV20B7YNHv2dPJWyZ', '_score': 1.8382794, '_source': {'path': ['a.ui big blue button', 'div.ui center aligned text container', 'div.ui very padded vertical segment', 'div.main-wrapper', 'body', 'html', '#document', 'Window'], 'userId': None, 'useraleVersion': 'demo', 'location': {'x': 602, 'y': 694}, 'toolName': None, 'toolVersion': None, 'clientTime': 1569123673249, 'details': {'alt': False, 'shift': False, 'meta': False, 'clicks': 1, 'ctrl': False}, '@timestamp': '2019-09-22T03:41:13.360Z', 'tags': ['_grokparsefailure'], 'type': 'click', 'host': '172.18.0.1', 'target': 'a.ui big blue button', 'userAction': True}}]}}\n"
     ]
    }
   ],
   "source": [
    "print(response.to_dict())"
   ]
  },
  {
   "cell_type": "code",
   "execution_count": 12,
   "metadata": {},
   "outputs": [
    {
     "name": "stdout",
     "output_type": "stream",
     "text": [
      "2\n"
     ]
    }
   ],
   "source": [
    "#add filter to search params\n",
    "customSearch2 = AleS.query(\"match\", type=\"click\") \\\n",
    "    .filter(\"term\", target=\"a.ui big blue button\") \\\n",
    "    .scan()\n",
    "\n",
    "response = customSearch.execute()\n",
    "\n",
    "print(response.hits.total)"
   ]
  },
  {
   "cell_type": "code",
   "execution_count": 13,
   "metadata": {},
   "outputs": [
    {
     "name": "stdout",
     "output_type": "stream",
     "text": [
      "{'query': {'bool': {'filter': [{'term': {'target': 'a.ui big blue button'}}], 'must': [{'match': {'type': 'click'}}]}}}\n"
     ]
    }
   ],
   "source": [
    "print(customSearch.to_dict())"
   ]
  },
  {
   "cell_type": "code",
   "execution_count": 14,
   "metadata": {},
   "outputs": [
    {
     "name": "stdout",
     "output_type": "stream",
     "text": [
      "{'took': 10, 'timed_out': False, '_shards': {'total': 1, 'successful': 1, 'skipped': 0, 'failed': 0}, 'hits': {'total': 2, 'max_score': 1.8382794, 'hits': [{'_index': 'userale', '_type': 'doc', '_id': 'mJYPV20B7YNHv2dPIGw7', '_score': 1.8382794, '_source': {'path': ['a.ui big blue button', 'div.ui center aligned text container', 'div.ui very padded vertical segment', 'div.main-wrapper', 'body', 'html', '#document', 'Window'], 'userId': None, 'useraleVersion': 'demo', 'location': {'x': 657, 'y': 705}, 'toolName': None, 'toolVersion': None, 'clientTime': 1569123669151, 'details': {'alt': False, 'shift': False, 'meta': False, 'clicks': 1, 'ctrl': False}, '@timestamp': '2019-09-22T03:41:11.890Z', 'tags': ['_grokparsefailure'], 'type': 'click', 'host': '172.18.0.1', 'target': 'a.ui big blue button', 'userAction': True}}, {'_index': 'userale', '_type': 'doc', '_id': 'pJYPV20B7YNHv2dPJWyZ', '_score': 1.8382794, '_source': {'path': ['a.ui big blue button', 'div.ui center aligned text container', 'div.ui very padded vertical segment', 'div.main-wrapper', 'body', 'html', '#document', 'Window'], 'userId': None, 'useraleVersion': 'demo', 'location': {'x': 602, 'y': 694}, 'toolName': None, 'toolVersion': None, 'clientTime': 1569123673249, 'details': {'alt': False, 'shift': False, 'meta': False, 'clicks': 1, 'ctrl': False}, '@timestamp': '2019-09-22T03:41:13.360Z', 'tags': ['_grokparsefailure'], 'type': 'click', 'host': '172.18.0.1', 'target': 'a.ui big blue button', 'userAction': True}}]}}\n"
     ]
    }
   ],
   "source": [
    "print(response.to_dict())"
   ]
  },
  {
   "cell_type": "code",
   "execution_count": 17,
   "metadata": {},
   "outputs": [
    {
     "data": {
      "text/html": [
       "<div>\n",
       "<style scoped>\n",
       "    .dataframe tbody tr th:only-of-type {\n",
       "        vertical-align: middle;\n",
       "    }\n",
       "\n",
       "    .dataframe tbody tr th {\n",
       "        vertical-align: top;\n",
       "    }\n",
       "\n",
       "    .dataframe thead th {\n",
       "        text-align: right;\n",
       "    }\n",
       "</style>\n",
       "<table border=\"1\" class=\"dataframe\">\n",
       "  <thead>\n",
       "    <tr style=\"text-align: right;\">\n",
       "      <th></th>\n",
       "      <th>_id</th>\n",
       "      <th>_index</th>\n",
       "      <th>_score</th>\n",
       "      <th>_source</th>\n",
       "      <th>_type</th>\n",
       "    </tr>\n",
       "  </thead>\n",
       "  <tbody>\n",
       "    <tr>\n",
       "      <th>0</th>\n",
       "      <td>mJYPV20B7YNHv2dPIGw7</td>\n",
       "      <td>userale</td>\n",
       "      <td>1.838279</td>\n",
       "      <td>{'path': ['a.ui big blue button', 'div.ui cent...</td>\n",
       "      <td>doc</td>\n",
       "    </tr>\n",
       "    <tr>\n",
       "      <th>1</th>\n",
       "      <td>pJYPV20B7YNHv2dPJWyZ</td>\n",
       "      <td>userale</td>\n",
       "      <td>1.838279</td>\n",
       "      <td>{'path': ['a.ui big blue button', 'div.ui cent...</td>\n",
       "      <td>doc</td>\n",
       "    </tr>\n",
       "  </tbody>\n",
       "</table>\n",
       "</div>"
      ],
      "text/plain": [
       "                    _id   _index    _score  \\\n",
       "0  mJYPV20B7YNHv2dPIGw7  userale  1.838279   \n",
       "1  pJYPV20B7YNHv2dPJWyZ  userale  1.838279   \n",
       "\n",
       "                                             _source _type  \n",
       "0  {'path': ['a.ui big blue button', 'div.ui cent...   doc  \n",
       "1  {'path': ['a.ui big blue button', 'div.ui cent...   doc  "
      ]
     },
     "execution_count": 17,
     "metadata": {},
     "output_type": "execute_result"
    }
   ],
   "source": [
    "#convert responses to dataframe \n",
    "#TODO extract _source(s) from df \n",
    "AleData = response.to_dict()\n",
    "AleMeta = pd.DataFrame.from_dict(AleData[\"hits\"][\"hits\"])\n",
    "\n",
    "AleMeta"
   ]
  },
  {
   "cell_type": "code",
   "execution_count": 57,
   "metadata": {},
   "outputs": [
    {
     "data": {
      "text/plain": [
       "{'path': ['a.ui big blue button',\n",
       "  'div.ui center aligned text container',\n",
       "  'div.ui very padded vertical segment',\n",
       "  'div.main-wrapper',\n",
       "  'body',\n",
       "  'html',\n",
       "  '#document',\n",
       "  'Window'],\n",
       " 'userId': '',\n",
       " 'useraleVersion': 'demo',\n",
       " 'location': {'x': 657, 'y': 705},\n",
       " 'toolName': '',\n",
       " 'toolVersion': '',\n",
       " 'clientTime': 1569123669151,\n",
       " 'details': {'alt': False,\n",
       "  'shift': False,\n",
       "  'meta': False,\n",
       "  'clicks': 1,\n",
       "  'ctrl': False},\n",
       " '@timestamp': '2019-09-22T03:41:11.890Z',\n",
       " 'tags': ['_grokparsefailure'],\n",
       " 'type': 'click',\n",
       " 'host': '172.18.0.1',\n",
       " 'target': 'a.ui big blue button',\n",
       " 'userAction': True}"
      ]
     },
     "execution_count": 57,
     "metadata": {},
     "output_type": "execute_result"
    }
   ],
   "source": [
    "#TO DO Make Iterator over source dump into python dataframe\n",
    "AleLogs = json.dumps(AleData[\"hits\"][\"hits\"][0]['_source']).replace('null', '\"\"')\n",
    "context = defaults.copy()\n",
    "context.update(user)\n",
    "json.loads(AleLogs)"
   ]
  },
  {
   "cell_type": "code",
   "execution_count": 50,
   "metadata": {},
   "outputs": [
    {
     "name": "stdout",
     "output_type": "stream",
     "text": [
      "path              [a.ui big blue button, div.ui center aligned t...\n",
      "userId                                                             \n",
      "useraleVersion                                                 demo\n",
      "location                                       {'x': 657, 'y': 705}\n",
      "toolName                                                           \n",
      "toolVersion                                                        \n",
      "clientTime                                            1569123669151\n",
      "details           {'alt': False, 'shift': False, 'meta': False, ...\n",
      "@timestamp                                 2019-09-22T03:41:11.890Z\n",
      "tags                                            [_grokparsefailure]\n",
      "type                                                          click\n",
      "host                                                     172.18.0.1\n",
      "target                                         a.ui big blue button\n",
      "userAction                                                     True\n",
      "dtype: object\n"
     ]
    }
   ],
   "source": [
    "#Pull data into pandas series\n",
    "AleSeries = pd.read_json(AleLogs, orient='index', typ='series')\n",
    "print(AleSeries)"
   ]
  },
  {
   "cell_type": "code",
   "execution_count": 51,
   "metadata": {},
   "outputs": [
    {
     "data": {
      "text/plain": [
       "['a.ui big blue button',\n",
       " 'div.ui center aligned text container',\n",
       " 'div.ui very padded vertical segment',\n",
       " 'div.main-wrapper',\n",
       " 'body',\n",
       " 'html',\n",
       " '#document',\n",
       " 'Window']"
      ]
     },
     "execution_count": 51,
     "metadata": {},
     "output_type": "execute_result"
    }
   ],
   "source": [
    "#Retrieve field\n",
    "AleSeries['path']"
   ]
  },
  {
   "cell_type": "code",
   "execution_count": null,
   "metadata": {},
   "outputs": [],
   "source": []
  }
 ],
 "metadata": {
  "kernelspec": {
   "display_name": "Python 3",
   "language": "python",
   "name": "python3"
  },
  "language_info": {
   "codemirror_mode": {
    "name": "ipython",
    "version": 3
   },
   "file_extension": ".py",
   "mimetype": "text/x-python",
   "name": "python",
   "nbconvert_exporter": "python",
   "pygments_lexer": "ipython3",
   "version": "3.7.3"
  }
 },
 "nbformat": 4,
 "nbformat_minor": 2
}
