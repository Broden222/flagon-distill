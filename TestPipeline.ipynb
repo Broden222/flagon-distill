{
 "cells": [
  {
   "cell_type": "markdown",
   "id": "83034970",
   "metadata": {},
   "source": [
    "# Distill Example"
   ]
  },
  {
   "cell_type": "markdown",
   "id": "0809cd43",
   "metadata": {},
   "source": []
  },
  {
   "cell_type": "markdown",
   "id": "49900c00",
   "metadata": {},
   "source": [
    "### License"
   ]
  },
  {
   "cell_type": "code",
   "execution_count": null,
   "id": "a54331ad",
   "metadata": {},
   "outputs": [],
   "source": [
    "#\n",
    "# Copyright 2022 The Applied Research Laboratory for Intelligence and Security (ARLIS)\n",
    "#\n",
    "# Licensed to the Apache Software Foundation (ASF) under one or more\n",
    "# contributor license agreements.  See the NOTICE file distributed with\n",
    "# this work for additional information regarding copyright ownership.\n",
    "# The ASF licenses this file to You under the Apache License, Version 2.0\n",
    "# (the \"License\"); you may not use this file except in compliance with\n",
    "# the License.  You may obtain a copy of the License at\n",
    "#\n",
    "#   http://www.apache.org/licenses/LICENSE-2.0\n",
    "#\n",
    "# Unless required by applicable law or agreed to in writing, software\n",
    "# distributed under the License is distributed on an \"AS IS\" BASIS,\n",
    "# WITHOUT WARRANTIES OR CONDITIONS OF ANY KIND, either express or implied.\n",
    "# See the License for the specific language governing permissions and\n",
    "# limitations under the License."
   ]
  },
  {
   "cell_type": "markdown",
   "id": "42d170c5",
   "metadata": {},
   "source": [
    "### Imports Used in this Example"
   ]
  },
  {
   "cell_type": "code",
   "execution_count": null,
   "id": "9d2e506b",
   "metadata": {},
   "outputs": [],
   "source": [
    "from elasticsearch import Elasticsearch\n",
    "from elasticsearch_dsl import connections\n",
    "from elasticsearch_dsl import Search\n",
    "from elasticsearch_dsl import Q\n",
    "from elasticsearch_dsl.query import MultiMatch, Match\n",
    "from collections import Counter, deque\n",
    "from itertools import count\n",
    "from uuid import uuid4\n",
    "\n",
    "import distill\n",
    "import numpy as np\n",
    "import pandas as pd\n",
    "from pandas.io.json import json_normalize\n",
    "import json\n",
    "import itertools\n",
    "import networkx as nx\n",
    "import hashlib, base64\n",
    "import plotly.graph_objects as go"
   ]
  },
  {
   "cell_type": "markdown",
   "id": "b55f549a",
   "metadata": {},
   "source": [
    "## Define Search"
   ]
  },
  {
   "cell_type": "markdown",
   "id": "e5359a48",
   "metadata": {},
   "source": [
    "create new connection to test instance, given an alias 'flagonTest' for later reference\n",
    "note: connections are easy enough such that examples are enough, no need for further abstraction"
   ]
  },
  {
   "cell_type": "code",
   "execution_count": null,
   "id": "f8eed107",
   "metadata": {},
   "outputs": [],
   "source": [
    "flagonClient = connections.create_connection('flagonTest', hosts=['localhost:9200'], timeout=60)\n",
    "\n",
    "#TODO describeabs connections\n",
    "\n",
    "#hello world test\n",
    "print(flagonClient)"
   ]
  },
  {
   "cell_type": "code",
   "execution_count": null,
   "id": "6caa6227",
   "metadata": {},
   "outputs": [],
   "source": [
    "AleS = Search(using='flagonTest', index=\"userale\")"
   ]
  },
  {
   "cell_type": "markdown",
   "id": "63f4b599",
   "metadata": {},
   "source": [
    "## Define Queries"
   ]
  },
  {
   "cell_type": "markdown",
   "id": "88c2b4ea",
   "metadata": {},
   "source": [
    "### Simple Queries"
   ]
  },
  {
   "cell_type": "code",
   "execution_count": null,
   "id": "85cbdaf0",
   "metadata": {},
   "outputs": [],
   "source": [
    "qLogType = Q(\"match\", logType=\"raw\") | Q(\"match\", logType=\"custom\")\n",
    "print(qLogType)"
   ]
  },
  {
   "cell_type": "code",
   "execution_count": null,
   "id": "f3db4b61",
   "metadata": {},
   "outputs": [],
   "source": [
    "qUserId = Q(\"match\", userId=\"superset-user\")\n",
    "print(qUserId)"
   ]
  },
  {
   "cell_type": "code",
   "execution_count": null,
   "id": "a9fa6510",
   "metadata": {},
   "outputs": [],
   "source": [
    "qExcludeSession = Q(\"match\", sessionID=\"\") & Q(\"match\", sessionID=\"\")\n",
    "print(qExcludeSession)"
   ]
  },
  {
   "cell_type": "markdown",
   "id": "d8f18d58",
   "metadata": {},
   "source": [
    "### Not-As-Simple Queries"
   ]
  },
  {
   "cell_type": "code",
   "execution_count": null,
   "id": "39f94c13",
   "metadata": {},
   "outputs": [],
   "source": [
    "qUrl = Q({\"wildcard\": {\n",
    "    \"pageUrl\": {\n",
    "        \"value\": \"*/superset/dashboard*\"\n",
    "    }\n",
    "}})\n",
    "print(qUrl)"
   ]
  },
  {
   "cell_type": "markdown",
   "id": "e3806738",
   "metadata": {},
   "source": [
    "### Define Filters"
   ]
  },
  {
   "cell_type": "code",
   "execution_count": null,
   "id": "1ae3df5f",
   "metadata": {},
   "outputs": [],
   "source": [
    "filterEvents = Q('bool', filter=[~Q('terms', type=['keydown', 'mousedown', 'mouseup'])])\n",
    "print(filterEvents)"
   ]
  },
  {
   "cell_type": "markdown",
   "id": "218dcf93",
   "metadata": {},
   "source": [
    "## Chained Searches"
   ]
  },
  {
   "cell_type": "markdown",
   "id": "94521da8",
   "metadata": {},
   "source": []
  },
  {
   "cell_type": "code",
   "execution_count": null,
   "id": "0afab6a0",
   "metadata": {},
   "outputs": [],
   "source": [
    "elk_search = AleS \\\n",
    "    .query(qUrl) \\\n",
    "    .query(qLogType) \\\n",
    "    .query(qUserId) \\\n",
    "    .query(filterEvents) \\\n",
    "    .extra(track_total_hits=True) #breaks return limit of 10000 hits"
   ]
  },
  {
   "cell_type": "markdown",
   "id": "cfe9411a",
   "metadata": {},
   "source": [
    "NOTE: `.execute()` will only retreive the first 10 hits with additional terms embedded in queries. Use `.scan()` instead if you want to retreive all the hits. We use `.execute()` below for brevity."
   ]
  },
  {
   "cell_type": "code",
   "execution_count": null,
   "id": "7401817d",
   "metadata": {},
   "outputs": [],
   "source": [
    "ale_dict = {}\n",
    "elk_response = elk_search.scan()\n",
    "for hit in elk_response:\n",
    "    logEntry = (hit.to_dict())\n",
    "    logEntry['uid'] = distill.getUUID(logEntry)\n",
    "    logEntry['clientTime'] = distill.epoch_to_datetime(logEntry['clientTime'])\n",
    "    ctr = len(ale_dict)\n",
    "    ctr += 1\n",
    "    ale_dict[ctr] = logEntry\n",
    "\n",
    "print(len(ale_dict))"
   ]
  },
  {
   "cell_type": "markdown",
   "id": "b761d6ca",
   "metadata": {},
   "source": [
    "## Data Forensics\n",
    "Data Forensics refers to ascertaining what is in our data. We may decide that we filtered to much or too little, and want to re-run our scan through ELK. Or, we may decide just how to apply filters as we go and \"carve\" out new dictionaries with less data, but more of the data we want. The following examples illustrate how to work with UserALE data in a dictionary format to perform data forensics."
   ]
  },
  {
   "cell_type": "markdown",
   "id": "82cd296d",
   "metadata": {},
   "source": [
    "### Sorting\n",
    "Getting User logs into a logical sequence can aid in a number of operations down the line."
   ]
  },
  {
   "cell_type": "markdown",
   "id": "74ba205d",
   "metadata": {},
   "source": [
    "A simple lambda function helps in sorting our user log dict by `clientTime` (when logs were written by the client)."
   ]
  },
  {
   "cell_type": "code",
   "execution_count": null,
   "id": "be808aef",
   "metadata": {},
   "outputs": [],
   "source": [
    "sorted_data = dict(sorted(ale_dict.items(), key = lambda kv: kv[1]['clientTime']))\n",
    "len(sorted_data)"
   ]
  },
  {
   "cell_type": "markdown",
   "id": "8d381225",
   "metadata": {},
   "source": [
    "### Searching\n",
    "Before we can filter out what we don't want in our data, we have to be able to be able to describe what we do and don't want.  Dictionaries are a fast and efficient way to search through data and Distill provides some supporting libraries for finding the information you want from your user logs."
   ]
  },
  {
   "cell_type": "markdown",
   "id": "89e91341",
   "metadata": {},
   "source": [
    "Distill's `find_meta_values` function uses list comprehensions to quickly provide all the unique values for specific key (e.g., `sessionID`, `userId`)."
   ]
  },
  {
   "cell_type": "code",
   "execution_count": null,
   "id": "bae89caf",
   "metadata": {},
   "outputs": [],
   "source": [
    "sessions = distill.find_meta_values('sessionID', sorted_data)\n",
    "sessions"
   ]
  },
  {
   "cell_type": "code",
   "execution_count": null,
   "id": "ed519ff9",
   "metadata": {},
   "outputs": [],
   "source": [
    "users = distill.find_meta_values('userId', sorted_data)\n",
    "users "
   ]
  },
  {
   "cell_type": "markdown",
   "id": "cc3840bf",
   "metadata": {},
   "source": [
    "Relying on the dictionary format, we can quickly create new dictionaries with certain characteristics using simple dictionary comprehensions (e.g., a dictionary with all logs that contain the key: `path`; a dictionarey with all logs where `type`== `click`)."
   ]
  },
  {
   "cell_type": "code",
   "execution_count": null,
   "id": "76139d82",
   "metadata": {
    "scrolled": false
   },
   "outputs": [],
   "source": [
    "values = ['path']\n",
    "sorted_data_paths = {k:v for k, v in sorted_data.items() if any(item in values for item in v.keys())}\n",
    "len(sorted_data_paths)"
   ]
  },
  {
   "cell_type": "code",
   "execution_count": null,
   "id": "6bf84749",
   "metadata": {},
   "outputs": [],
   "source": [
    "values = ['click']\n",
    "sorted_data_paths_clicks = {k:v for k, v in sorted_data_paths.items() if any(item in values for item in v.values())}\n",
    "len(sorted_data_paths_clicks)"
   ]
  },
  {
   "cell_type": "markdown",
   "id": "53a86d61",
   "metadata": {},
   "source": [
    "Using the same methods, we can find all logs that refer to a specific DOM element in the field `path`. "
   ]
  },
  {
   "cell_type": "code",
   "execution_count": null,
   "id": "6cbaf33e",
   "metadata": {},
   "outputs": [],
   "source": [
    "ele = ['div.superset-legacy-chart-world-map']\n",
    "sorted_data_pathele = {k:v for k, v in sorted_data_paths.items() if any(item in ele for item in v['path'])}\n",
    "sorted_data_pathele.keys()"
   ]
  },
  {
   "cell_type": "markdown",
   "id": "ecac79e3",
   "metadata": {},
   "source": [
    "## Segmentation\n",
    "User data is always nested in time--the things they do, explore, and select are bound to time. Segmentation is the practice of slicing a series of data into a set of epochs (time-bound bins of logs) defined by some characteristic. They can be very general (e.g., 30 second, non-overlapping intervals starting from the beginning of a user session), or they can be very specific (e.g., an epoch when users were interacting with a specific UI element with filters set). Segmentation is generally very challenging and in the realm of 'advanced user analytics'--Distill makes segmentation much easier. "
   ]
  },
  {
   "cell_type": "markdown",
   "id": "8f867369",
   "metadata": {},
   "source": [
    "We want to to be able to create and curate segments without having to rewrite new datasets every time. We're going to start by creating a Master Dictionary for all our interesting segments:"
   ]
  },
  {
   "cell_type": "code",
   "execution_count": 1,
   "id": "10e34203",
   "metadata": {},
   "outputs": [
    {
     "data": {
      "text/plain": [
       "{}"
      ]
     },
     "execution_count": 1,
     "metadata": {},
     "output_type": "execute_result"
    }
   ],
   "source": [
    "superSegments = {}\n",
    "superSegments"
   ]
  },
  {
   "cell_type": "markdown",
   "id": "0d991926",
   "metadata": {},
   "source": [
    "### Finding Deadspace\n",
    "One of the most simple ways of defining an epoch is that nothing is in it! We call this \"deadspace\"--a user might have started doing something else AFK, but we have no user behavior to indicate they've switch tasks (e.g., `blur` event). Deadspace can be useful to identify; we can omit it from other segments if we need to. Distill's `detect_deadspace` function is helpful for finding deadspace:"
   ]
  },
  {
   "cell_type": "code",
   "execution_count": null,
   "id": "47553657",
   "metadata": {},
   "outputs": [],
   "source": [
    "deadSpaceSegments = distill.deadspace(sorted_data_paths, 5, 0, 0)\n",
    "for counter, d in enumerate(deadSpaceSegments.values(), start=1):\n",
    "    d.segment_name = str(\"deadSpace\" + str(counter))\n",
    "    print(d.segment_name, d.segment_type, d.start_end_val, d.num_logs, d.uids)"
   ]
  },
  {
   "cell_type": "markdown",
   "id": "c946342d",
   "metadata": {},
   "source": [
    "Seems like deadspace is everywhere; could be that what we thought might be deadspace is really normal use. We can quickly regenerate segments with modified time parameters (real deadspace is a longer absence of behavior):"
   ]
  },
  {
   "cell_type": "code",
   "execution_count": null,
   "id": "dc130a1f",
   "metadata": {},
   "outputs": [],
   "source": [
    "deadSpaceSegments = distill.deadspace(sorted_data_paths, 10, 0, 0)\n",
    "for counter, d in enumerate(deadSpaceSegments.values(), start=1):\n",
    "    d.segment_name = str(\"deadSpace\" + str(counter))\n",
    "    print(d.segment_name, d.segment_type, d.start_end_val, d.num_logs, d.uids)"
   ]
  },
  {
   "cell_type": "markdown",
   "id": "f593d800",
   "metadata": {},
   "source": [
    "Add the deadspace segments that seem more reasonable to the Master Dictionary of segments:"
   ]
  },
  {
   "cell_type": "code",
   "execution_count": null,
   "id": "9cd5dffc",
   "metadata": {},
   "outputs": [],
   "source": [
    "superSegments.update(deadSpaceSegments)\n",
    "for d in superSegments.values():\n",
    "    print(d.segment_name, d.segment_type, d.start_end_val, d.num_logs, d.uids)"
   ]
  },
  {
   "cell_type": "markdown",
   "id": "1bf72eb2",
   "metadata": {},
   "source": [
    "### Simple Segments - Toggles"
   ]
  },
  {
   "cell_type": "code",
   "execution_count": null,
   "id": "eaca0074",
   "metadata": {},
   "outputs": [],
   "source": [
    "toggleEle = ['button.ant-btn superset-button css-1mljg09', 'div#chart-id-515.filter_box']"
   ]
  },
  {
   "cell_type": "code",
   "execution_count": null,
   "id": "42f0102e",
   "metadata": {},
   "outputs": [],
   "source": [
    "mapSegments = distill.generate_segments(sorted_data_paths,'path',['div.superset-legacy-chart-world-map','window'],0,30)\n",
    "for counter, d in enumerate(mapSegments.values(), start=1):\n",
    "    d.segment_name = str(\"map_\" + str(counter))\n",
    "    print(d.segment_name, d.start_end_val, d.num_logs, d.uids)"
   ]
  },
  {
   "cell_type": "code",
   "execution_count": null,
   "id": "b5e0bb89",
   "metadata": {},
   "outputs": [],
   "source": [
    "\n",
    "# Python code to merge dict using update() method\n",
    "def Merge(dict1, dict2):\n",
    "    return(dict2.update(dict1))"
   ]
  },
  {
   "cell_type": "code",
   "execution_count": null,
   "id": "20ab036f",
   "metadata": {},
   "outputs": [],
   "source": [
    "mapSegments_list = []\n",
    "mapSegment_times = []\n",
    "for d in mapSegments.values():\n",
    "    if d.num_logs > 50:\n",
    "        mapSegments_list.append(d.segment_name)\n",
    "        mapSegment_times.append(d.start_end_val)\n",
    "        print(d.segment_name, d.start_end_val, d.num_logs, d.uids)"
   ]
  },
  {
   "cell_type": "markdown",
   "id": "322fb822",
   "metadata": {},
   "source": []
  },
  {
   "cell_type": "code",
   "execution_count": null,
   "id": "f9b4f5e0",
   "metadata": {},
   "outputs": [],
   "source": [
    "filterDataBy = ['click']\n",
    "sorted_data_paths_clicks = {k:v for k, v in sorted_data_paths.items() if any(item in values for item in v.values())}\n",
    "len(sorted_data_paths_clicks)"
   ]
  },
  {
   "cell_type": "markdown",
   "id": "fd046dbe",
   "metadata": {},
   "source": []
  },
  {
   "cell_type": "code",
   "execution_count": null,
   "id": "3ad9c6af",
   "metadata": {},
   "outputs": [],
   "source": [
    "mapSegments_data = distill.write_segment(sorted_data_paths_clicks, mapSegments_list, mapSegment_times)\n",
    "list(mapSegments_data.keys())"
   ]
  },
  {
   "cell_type": "markdown",
   "id": "26915660",
   "metadata": {},
   "source": [
    "## Graphs and Stats"
   ]
  },
  {
   "cell_type": "code",
   "execution_count": null,
   "id": "17476fd9",
   "metadata": {},
   "outputs": [],
   "source": [
    "edges_map_1 = distill.pairwiseSeq(['|'.join(log['path']) for log in mapSegments_data['map_1'].values()])\n",
    "edges_list_map_1 = list(edges_map_1)\n",
    "edges_map_2 = distill.pairwiseSeq(['|'.join(log['path']) for log in mapSegments_data['map_2'].values()])\n",
    "edges_list_map_2 = list(edges_map_2)"
   ]
  },
  {
   "cell_type": "code",
   "execution_count": null,
   "id": "bb75016c",
   "metadata": {},
   "outputs": [],
   "source": [
    "nodes_map_1 = set(['|'.join(log['path']) for log in mapSegments_data['map_1'].values()])\n",
    "nodes_list_map_1 = list(nodes_map_1)\n",
    "nodes_map_2 = set(['|'.join(log['path']) for log in mapSegments_data['map_2'].values()])\n",
    "nodes_list_map_2 = list(nodes_map_2)"
   ]
  },
  {
   "cell_type": "code",
   "execution_count": null,
   "id": "a1140db2",
   "metadata": {},
   "outputs": [],
   "source": [
    "G_map1 = distill.createDiGraph(nodes_list_map_1, edges_list_map_1, drop_recursions = False)\n",
    "G_map2 = distill.createDiGraph(nodes_list_map_2, edges_list_map_2, drop_recursions = False)"
   ]
  },
  {
   "cell_type": "code",
   "execution_count": null,
   "id": "e7b2ecbf",
   "metadata": {},
   "outputs": [],
   "source": [
    "nx.draw(G_map1, with_labels=False)"
   ]
  },
  {
   "cell_type": "code",
   "execution_count": null,
   "id": "a81165c5",
   "metadata": {
    "scrolled": false
   },
   "outputs": [],
   "source": [
    "nx.draw(G_map2, with_labels=False)"
   ]
  },
  {
   "cell_type": "code",
   "execution_count": null,
   "id": "839167fc",
   "metadata": {},
   "outputs": [],
   "source": [
    "nx.average_node_connectivity(G_map2)"
   ]
  },
  {
   "cell_type": "markdown",
   "id": "db537c67",
   "metadata": {},
   "source": [
    "## Exploratory Visualization"
   ]
  },
  {
   "cell_type": "code",
   "execution_count": null,
   "id": "a7231ba0",
   "metadata": {},
   "outputs": [],
   "source": [
    "distill.sankey(edges_map_2,[nodes_list_map_2[item].split(\"|\")[0] for item in range(len(nodes_list_map_2))])"
   ]
  },
  {
   "cell_type": "code",
   "execution_count": null,
   "id": "3fb3d8d8",
   "metadata": {},
   "outputs": [],
   "source": [
    "distill.funnel"
   ]
  },
  {
   "cell_type": "markdown",
   "id": "11b105f5",
   "metadata": {},
   "source": []
  },
  {
   "cell_type": "code",
   "execution_count": null,
   "id": "e12b4d7d",
   "metadata": {},
   "outputs": [],
   "source": [
    "#clickRate"
   ]
  },
  {
   "cell_type": "markdown",
   "id": "a06bf50a",
   "metadata": {},
   "source": []
  },
  {
   "cell_type": "code",
   "execution_count": null,
   "id": "90badd8d",
   "metadata": {},
   "outputs": [],
   "source": []
  },
  {
   "cell_type": "code",
   "execution_count": null,
   "id": "348e3a5b",
   "metadata": {},
   "outputs": [],
   "source": [
    "edge_list_temp = []\n",
    "for row in edges_segmentN:\n",
    "    if row[0] != row[1]: \n",
    "        edge_list_temp.append(row)\n",
    "edge_list = edge_list_temp\n",
    "\n",
    "edge_list_counter = Counter(edge_list)\n",
    "\n",
    "source_list = [i[0] for i in edge_list_counter.keys()]\n",
    "target_list = [i[1] for i in edge_list_counter.keys()]\n",
    "value_list = [i for i in edge_list_counter.values()]\n",
    "\n",
    "nodes = []\n",
    "for row in edge_list:\n",
    "    for col in row:\n",
    "        if col not in nodes:\n",
    "            nodes.append(col)           \n",
    "            \n",
    "sources = []\n",
    "for i in source_list:\n",
    "       sources.append(nodes.index(i))\n",
    "targets = []\n",
    "for i in target_list:\n",
    "        targets.append(nodes.index(i))\n",
    "values = value_list\n",
    "\n",
    "fig = go.Figure(data=[go.Sankey(\n",
    "    node = dict(\n",
    "      label = [nodes[item].split(\"|\")[0] for item in range(len(nodes))],\n",
    "    ),\n",
    "    link = dict(\n",
    "      source = sources,\n",
    "      target = targets,\n",
    "      value = values\n",
    "  ))])\n",
    "\n",
    "fig.show()"
   ]
  },
  {
   "cell_type": "markdown",
   "id": "9bd03731",
   "metadata": {},
   "source": [
    "# WIP"
   ]
  },
  {
   "cell_type": "code",
   "execution_count": null,
   "id": "dc8b6cdd",
   "metadata": {},
   "outputs": [],
   "source": [
    "x = [hashlib.md5('_'.join(log['path']).encode('utf-8')).digest() for log in finalSegments['...'].values()]\n",
    "y = [hashlib.md5('_'.join(log['path']).encode('utf-8')).digest() for log in finalSegments['...'].values()]\n",
    "set(x) & set (y)"
   ]
  },
  {
   "cell_type": "code",
   "execution_count": null,
   "id": "8fbf9bbb",
   "metadata": {},
   "outputs": [],
   "source": [
    "x = ['_'.join(log['path']) for log in finalSegments['...'].values()]\n",
    "y = ['_'.join(log['path']) for log in finalSegments['...'].values()]\n",
    "set(x) & set(y)"
   ]
  },
  {
   "cell_type": "code",
   "execution_count": null,
   "id": "eb1e095c",
   "metadata": {},
   "outputs": [],
   "source": [
    "nx.graph_edit_distance(G_segmentN, G_segmentN)"
   ]
  },
  {
   "cell_type": "code",
   "execution_count": null,
   "id": "3f79c272",
   "metadata": {},
   "outputs": [],
   "source": [
    "for v in nx.optimize_graph_edit_distance(G_segmentN, G_segmentN):\n",
    "    minv = v\n",
    "minv"
   ]
  }
 ],
 "metadata": {
  "kernelspec": {
   "display_name": "Python 3",
   "language": "python",
   "name": "python3"
  },
  "language_info": {
   "codemirror_mode": {
    "name": "ipython",
    "version": 3
   },
   "file_extension": ".py",
   "mimetype": "text/x-python",
   "name": "python",
   "nbconvert_exporter": "python",
   "pygments_lexer": "ipython3",
   "version": "3.8.8"
  }
 },
 "nbformat": 4,
 "nbformat_minor": 5
}
