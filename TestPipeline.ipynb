{
 "cells": [
  {
   "cell_type": "code",
   "execution_count": 1,
   "id": "90c5cc5a",
   "metadata": {},
   "outputs": [],
   "source": [
    "from elasticsearch import Elasticsearch\n",
    "from elasticsearch_dsl import connections\n",
    "from elasticsearch_dsl import Search\n",
    "from elasticsearch_dsl import Q\n",
    "from elasticsearch_dsl.query import MultiMatch, Match\n",
    "from collections import Counter, deque\n",
    "from itertools import count\n",
    "from uuid import uuid4\n",
    "\n",
    "import distill\n",
    "import numpy as np\n",
    "import pandas as pd\n",
    "from pandas.io.json import json_normalize\n",
    "import json\n",
    "import itertools\n",
    "import networkx as nx\n",
    "import hashlib, base64\n",
    "import plotly.graph_objects as go"
   ]
  },
  {
   "cell_type": "code",
   "execution_count": null,
   "id": "37a5cb6e",
   "metadata": {},
   "outputs": [],
   "source": [
    "def createDiGraph(nodes, edges, *, drop_recursions: bool = False):\n",
    "    \"\"\"\n",
    "    Creates NetworkX Directed Graph Object (G) from defined node, edge list\n",
    "    :param nodes: Series or List of Events, Elements\n",
    "    :param edges: Series or List of Pairs\n",
    "    :param drop_recursions: if True eliminates self:self pairs in edges\n",
    "    :return: A NetworkX graph object\n",
    "    \"\"\"\n",
    "    G=nx.DiGraph()\n",
    "    G.add_nodes_from(nodes)\n",
    "    if drop_recursions==True:\n",
    "        edges_filtered = []\n",
    "        for row in edges:\n",
    "            if row[0] != row[1]:\n",
    "                edges_filtered.append(row)\n",
    "        G.add_edges_from(edges_filtered)\n",
    "        return G\n",
    "    else:\n",
    "        G.add_edges_from(edges)\n",
    "        return G\n"
   ]
  },
  {
   "cell_type": "code",
   "execution_count": null,
   "id": "b603e6e3",
   "metadata": {},
   "outputs": [],
   "source": [
    "def pairwiseStag(iterable, *, split: bool = False):\n",
    "    '''\n",
    "    Creates sequence of staggered, pairwise tuples for edge-lists: \"s -> (s0, s1), (s2, s3), (s4, s5), ...\"\n",
    "    :param iterable: a series or list\n",
    "    :param split: split=True returns pairwise elements in two separate lists of same len (default=False)\n",
    "    :return: returns list object(s)\n",
    "    '''\n",
    "    a = iter(iterable)\n",
    "    pairs = zip(a, a)\n",
    "    if split==True:\n",
    "        list1, list2 = zip(*pairs)\n",
    "        return list1, list2\n",
    "    else:\n",
    "        return list(pairs)"
   ]
  },
  {
   "cell_type": "code",
   "execution_count": null,
   "id": "57390730",
   "metadata": {},
   "outputs": [],
   "source": [
    "def pairwiseSeq(iterable, *, split: bool = False):\n",
    "    \"\"\"\n",
    "    Creates sequence of pairwise tuples that can be used as edge-lists: \"s -> (s0, s1), (s1, s2), (s2, s3), ...\"\n",
    "    :param iterable: a series or list\n",
    "    :param split=True returns pairwise elements in two separate lists of same len (default=False)\n",
    "    :return: returns list object(s)\n",
    "    \"\"\"\n",
    "    a, b = itertools.tee(iterable, 2)\n",
    "    next(b, None)\n",
    "    pairs = zip(a, b)\n",
    "    if split==True:\n",
    "        list1, list2 = zip(*pairs)\n",
    "        return list1, list2\n",
    "    else:\n",
    "        return list(pairs)"
   ]
  },
  {
   "cell_type": "markdown",
   "id": "b55f549a",
   "metadata": {},
   "source": [
    "# Define Search"
   ]
  },
  {
   "cell_type": "markdown",
   "id": "e5359a48",
   "metadata": {},
   "source": [
    "create new connection to test instance, given an alias 'flagonTest' for later reference\n",
    "note: connections are easy enough such that examples are enough, no need for further abstraction"
   ]
  },
  {
   "cell_type": "code",
   "execution_count": 2,
   "id": "f8eed107",
   "metadata": {},
   "outputs": [
    {
     "name": "stdout",
     "output_type": "stream",
     "text": [
      "<Elasticsearch([{'host': 'localhost', 'port': 9200}])>\n"
     ]
    }
   ],
   "source": [
    "flagonClient = connections.create_connection('flagonTest', hosts=['localhost:9200'], timeout=60)\n",
    "\n",
    "#TODO describeabs connections\n",
    "\n",
    "#hello world test\n",
    "print(flagonClient)"
   ]
  },
  {
   "cell_type": "code",
   "execution_count": 3,
   "id": "6caa6227",
   "metadata": {},
   "outputs": [],
   "source": [
    "AleS = Search(using='flagonTest', index=\"userale\")"
   ]
  },
  {
   "cell_type": "markdown",
   "id": "63f4b599",
   "metadata": {},
   "source": [
    "# Define Queries"
   ]
  },
  {
   "cell_type": "markdown",
   "id": "88c2b4ea",
   "metadata": {},
   "source": [
    "## Simple Queries"
   ]
  },
  {
   "cell_type": "code",
   "execution_count": 4,
   "id": "85cbdaf0",
   "metadata": {},
   "outputs": [
    {
     "name": "stdout",
     "output_type": "stream",
     "text": [
      "Bool(should=[Match(logType='raw'), Match(logType='custom')])\n"
     ]
    }
   ],
   "source": [
    "qLogType = Q(\"match\", logType=\"raw\") | Q(\"match\", logType=\"custom\")\n",
    "print(qLogType)"
   ]
  },
  {
   "cell_type": "code",
   "execution_count": 5,
   "id": "f3db4b61",
   "metadata": {},
   "outputs": [
    {
     "name": "stdout",
     "output_type": "stream",
     "text": [
      "Match(userId='superset-user')\n"
     ]
    }
   ],
   "source": [
    "qUserId = Q(\"match\", userId=\"superset-user\")\n",
    "print(qUserId)"
   ]
  },
  {
   "cell_type": "code",
   "execution_count": 6,
   "id": "a9fa6510",
   "metadata": {},
   "outputs": [
    {
     "name": "stdout",
     "output_type": "stream",
     "text": [
      "Bool(must=[Match(sessionID=''), Match(sessionID='')])\n"
     ]
    }
   ],
   "source": [
    "qExcludeSession = Q(\"match\", sessionID=\"\") & Q(\"match\", sessionID=\"\")\n",
    "print(qExcludeSession)"
   ]
  },
  {
   "cell_type": "markdown",
   "id": "d8f18d58",
   "metadata": {},
   "source": [
    "## Not-As-Simple Queries"
   ]
  },
  {
   "cell_type": "code",
   "execution_count": 7,
   "id": "093d5d43",
   "metadata": {},
   "outputs": [
    {
     "name": "stdout",
     "output_type": "stream",
     "text": [
      "Wildcard(pageUrl={'value': '*/superset/dashboard*'})\n"
     ]
    }
   ],
   "source": [
    "qUrl = Q({\"wildcard\": {\n",
    "    \"pageUrl\": {\n",
    "        \"value\": \"*/superset/dashboard*\"\n",
    "    }\n",
    "}})\n",
    "print(qUrl)"
   ]
  },
  {
   "cell_type": "markdown",
   "id": "d141e40f",
   "metadata": {},
   "source": [
    "## Define Filters"
   ]
  },
  {
   "cell_type": "code",
   "execution_count": 8,
   "id": "1ae3df5f",
   "metadata": {},
   "outputs": [
    {
     "name": "stdout",
     "output_type": "stream",
     "text": [
      "Bool(filter=[Bool(must_not=[Terms(type=['mouseover', 'wheel', 'keydown', 'scroll'])])])\n"
     ]
    }
   ],
   "source": [
    "filterEvents = Q('bool', filter=[~Q('terms', type=['mouseover','wheel','keydown','scroll'])])\n",
    "print(filterEvents)"
   ]
  },
  {
   "cell_type": "markdown",
   "id": "218dcf93",
   "metadata": {},
   "source": [
    "# Chained Searches"
   ]
  },
  {
   "cell_type": "markdown",
   "id": "94521da8",
   "metadata": {},
   "source": []
  },
  {
   "cell_type": "code",
   "execution_count": 9,
   "id": "0afab6a0",
   "metadata": {},
   "outputs": [],
   "source": [
    "elk_search = AleS \\\n",
    "    .query(qUrl) \\\n",
    "    .query(qLogType) \\\n",
    "    .query(qUserId) \\\n",
    "    .query(filterEvents) \\\n",
    "    .extra(track_total_hits=True) #breaks return limit of 10000 hits"
   ]
  },
  {
   "cell_type": "markdown",
   "id": "cfe9411a",
   "metadata": {},
   "source": [
    "NOTE: `.execute()` will only retreive the first 10 hits with additional terms embedded in queries. Use `.scan()` instead if you want to retreive all the hits. We use `.execute()` below for brevity."
   ]
  },
  {
   "cell_type": "code",
   "execution_count": 10,
   "id": "7401817d",
   "metadata": {},
   "outputs": [
    {
     "name": "stdout",
     "output_type": "stream",
     "text": [
      "998\n"
     ]
    }
   ],
   "source": [
    "ale_dict = {}\n",
    "elk_response = elk_search.scan()\n",
    "for hit in elk_response:\n",
    "    logEntry = (hit.to_dict())\n",
    "    logEntry['uid'] = distill.getUUID(logEntry)\n",
    "    logEntry['clientTime'] = distill.epoch_to_datetime(logEntry['clientTime'])\n",
    "    ctr = len(ale_dict)\n",
    "    ctr += 1\n",
    "    ale_dict[ctr] = logEntry\n",
    "\n",
    "print(len(ale_dict))"
   ]
  },
  {
   "cell_type": "markdown",
   "id": "b761d6ca",
   "metadata": {},
   "source": [
    "# Data Forensics"
   ]
  },
  {
   "cell_type": "markdown",
   "id": "70be5279",
   "metadata": {},
   "source": []
  },
  {
   "cell_type": "code",
   "execution_count": 11,
   "id": "be808aef",
   "metadata": {},
   "outputs": [
    {
     "data": {
      "text/plain": [
       "998"
      ]
     },
     "execution_count": 11,
     "metadata": {},
     "output_type": "execute_result"
    }
   ],
   "source": [
    "sorted_data = dict(sorted(ale_dict.items(), key = lambda kv: kv[1]['clientTime']))\n",
    "len(sorted_data)"
   ]
  },
  {
   "cell_type": "code",
   "execution_count": 12,
   "id": "bae89caf",
   "metadata": {},
   "outputs": [
    {
     "data": {
      "text/plain": [
       "['session_1641502434428',\n",
       " 'session_1640200820004',\n",
       " 'session_1641584276813',\n",
       " 'session_1641844965430',\n",
       " 'session_1640029398947',\n",
       " 'session_1640118177195']"
      ]
     },
     "execution_count": 12,
     "metadata": {},
     "output_type": "execute_result"
    }
   ],
   "source": [
    "sessions = distill.find_meta_values('sessionID', sorted_data)\n",
    "sessions"
   ]
  },
  {
   "cell_type": "code",
   "execution_count": 13,
   "id": "ed519ff9",
   "metadata": {},
   "outputs": [
    {
     "data": {
      "text/plain": [
       "['superset-user']"
      ]
     },
     "execution_count": 13,
     "metadata": {},
     "output_type": "execute_result"
    }
   ],
   "source": [
    "users = distill.find_meta_values('userId', sorted_data)\n",
    "users "
   ]
  },
  {
   "cell_type": "code",
   "execution_count": 14,
   "id": "76139d82",
   "metadata": {},
   "outputs": [
    {
     "data": {
      "text/plain": [
       "995"
      ]
     },
     "execution_count": 14,
     "metadata": {},
     "output_type": "execute_result"
    }
   ],
   "source": [
    "values = ['path']\n",
    "sorted_data_paths = {k:v for k, v in sorted_data.items() if any(item in values for item in v.keys())}\n",
    "len(sorted_data_paths)"
   ]
  },
  {
   "cell_type": "code",
   "execution_count": 15,
   "id": "6bf84749",
   "metadata": {},
   "outputs": [
    {
     "data": {
      "text/plain": [
       "186"
      ]
     },
     "execution_count": 15,
     "metadata": {},
     "output_type": "execute_result"
    }
   ],
   "source": [
    "values = ['click']\n",
    "sorted_data_paths_clicks = {k:v for k, v in sorted_data_paths.items() if any(item in values for item in v.values())}\n",
    "len(sorted_data_paths_clicks)"
   ]
  },
  {
   "cell_type": "code",
   "execution_count": null,
   "id": "77340d7c",
   "metadata": {},
   "outputs": [],
   "source": [
    "ele = ['div.superset-legacy-chart-world-map']\n",
    "sorted_data_pathele = {k:v for k, v in sorted_data_paths.items() if any(item in ele for item in v['path'])}\n",
    "sorted_data_pathele.keys()"
   ]
  },
  {
   "cell_type": "markdown",
   "id": "ecac79e3",
   "metadata": {},
   "source": [
    "# Segmentation"
   ]
  },
  {
   "cell_type": "markdown",
   "id": "88ce5004",
   "metadata": {},
   "source": []
  },
  {
   "cell_type": "code",
   "execution_count": 45,
   "id": "344ed14b",
   "metadata": {},
   "outputs": [
    {
     "name": "stdout",
     "output_type": "stream",
     "text": [
      "map_1 (1640201161299, 1640201191299) 95\n",
      "map_2 (1641849246535, 1641849276535) 70\n",
      "map_3 (1641849283637, 1641849313637) 47\n",
      "map_4 (1641849368424, 1641849398424) 22\n"
     ]
    }
   ],
   "source": [
    "mapSegments = distill.generate_segments(sorted_data_paths,'path',['div.superset-legacy-chart-world-map','window'],0,30)\n",
    "for counter, d in enumerate(mapSegments.values(), start=1):\n",
    "    d.segment_name = str(\"map_\" + str(counter))\n",
    "    print(d.segment_name, d.start_end_val, d.num_logs)"
   ]
  },
  {
   "cell_type": "code",
   "execution_count": 54,
   "id": "20ab036f",
   "metadata": {},
   "outputs": [
    {
     "name": "stdout",
     "output_type": "stream",
     "text": [
      "map_1 (1640201161299, 1640201191299) 95\n",
      "map_2 (1641849246535, 1641849276535) 70\n"
     ]
    }
   ],
   "source": [
    "mapSegments_list = []\n",
    "mapSegment_times = []\n",
    "for d in mapSegments.values():\n",
    "    if d.num_logs > 50:\n",
    "        mapSegments_list.append(d.segment_name)\n",
    "        mapSegment_times.append(d.start_end_val)\n",
    "        print(d.segment_name, d.start_end_val, d.num_logs)"
   ]
  },
  {
   "cell_type": "markdown",
   "id": "fd149221",
   "metadata": {},
   "source": []
  },
  {
   "cell_type": "code",
   "execution_count": 51,
   "id": "8429cbf0",
   "metadata": {},
   "outputs": [
    {
     "data": {
      "text/plain": [
       "186"
      ]
     },
     "execution_count": 51,
     "metadata": {},
     "output_type": "execute_result"
    }
   ],
   "source": [
    "filterDataBy = ['click']\n",
    "sorted_data_paths_clicks = {k:v for k, v in sorted_data_paths.items() if any(item in values for item in v.values())}\n",
    "len(sorted_data_paths_clicks)"
   ]
  },
  {
   "cell_type": "markdown",
   "id": "bd6cea83",
   "metadata": {},
   "source": []
  },
  {
   "cell_type": "code",
   "execution_count": 65,
   "id": "3ad9c6af",
   "metadata": {},
   "outputs": [
    {
     "data": {
      "text/plain": [
       "['map_1', 'map_2']"
      ]
     },
     "execution_count": 65,
     "metadata": {},
     "output_type": "execute_result"
    }
   ],
   "source": [
    "mapSegments_data = distill.write_segment(sorted_data_paths_clicks, mapSegments_list, mapSegment_times)\n",
    "list(MapSegments_data.keys())"
   ]
  },
  {
   "cell_type": "markdown",
   "id": "db537c67",
   "metadata": {},
   "source": [
    "# Exploratory Visualization"
   ]
  },
  {
   "cell_type": "code",
   "execution_count": null,
   "id": "33338829",
   "metadata": {},
   "outputs": [],
   "source": []
  },
  {
   "cell_type": "markdown",
   "id": "26915660",
   "metadata": {},
   "source": [
    "# Graphs and Stats"
   ]
  },
  {
   "cell_type": "code",
   "execution_count": 67,
   "id": "17476fd9",
   "metadata": {},
   "outputs": [],
   "source": [
    "edges_map_1 = distill.pairwiseSeq(['|'.join(log['path']) for log in mapSegments_data['map_1'].values()])\n",
    "edges_map_2 = distill.pairwiseSeq(['|'.join(log['path']) for log in mapSegments_data['map_2'].values()])"
   ]
  },
  {
   "cell_type": "code",
   "execution_count": 69,
   "id": "bb75016c",
   "metadata": {},
   "outputs": [],
   "source": [
    "nodes_map_1 = set(['|'.join(log['path']) for log in mapSegments_data['map_1'].values()])\n",
    "nodes_map_2 = set(['|'.join(log['path']) for log in mapSegments_data['map_2'].values()])"
   ]
  },
  {
   "cell_type": "code",
   "execution_count": 71,
   "id": "a1140db2",
   "metadata": {},
   "outputs": [],
   "source": [
    "G_map1 = distill.createDiGraph(nodes_map_1, edges_map_1, drop_recursions = False)\n",
    "G_map2 = distill.createDiGraph(nodes_map_2, edges_map_2, drop_recursions = False)"
   ]
  },
  {
   "cell_type": "code",
   "execution_count": 73,
   "id": "e7b2ecbf",
   "metadata": {},
   "outputs": [
    {
     "data": {
      "image/png": "[encoded data removed]",
      "text/plain": [
       "<Figure size 432x288 with 1 Axes>"
      ]
     },
     "metadata": {},
     "output_type": "display_data"
    }
   ],
   "source": [
    "nx.draw(G_map1, with_labels=False)"
   ]
  },
  {
   "cell_type": "code",
   "execution_count": 72,
   "id": "a81165c5",
   "metadata": {
    "scrolled": false
   },
   "outputs": [
    {
     "data": {
      "image/png": "[encoded data removed]",
      "text/plain": [
       "<Figure size 432x288 with 1 Axes>"
      ]
     },
     "metadata": {},
     "output_type": "display_data"
    }
   ],
   "source": [
    "nx.draw(G_map2, with_labels=False)"
   ]
  },
  {
   "cell_type": "code",
   "execution_count": 75,
   "id": "839167fc",
   "metadata": {},
   "outputs": [
    {
     "data": {
      "text/plain": [
       "0.5"
      ]
     },
     "execution_count": 75,
     "metadata": {},
     "output_type": "execute_result"
    }
   ],
   "source": [
    "nx.average_node_connectivity(G_map2)"
   ]
  },
  {
   "cell_type": "code",
   "execution_count": null,
   "id": "44452a02",
   "metadata": {},
   "outputs": [],
   "source": [
    "#clickRate"
   ]
  },
  {
   "cell_type": "markdown",
   "id": "a06bf50a",
   "metadata": {},
   "source": []
  },
  {
   "cell_type": "code",
   "execution_count": null,
   "id": "84b4a632",
   "metadata": {},
   "outputs": [],
   "source": []
  },
  {
   "cell_type": "code",
   "execution_count": null,
   "id": "348e3a5b",
   "metadata": {},
   "outputs": [],
   "source": [
    "edge_list_temp = []\n",
    "for row in edges_segmentN:\n",
    "    if row[0] != row[1]: \n",
    "        edge_list_temp.append(row)\n",
    "edge_list = edge_list_temp\n",
    "\n",
    "edge_list_counter = Counter(edge_list)\n",
    "\n",
    "source_list = [i[0] for i in edge_list_counter.keys()]\n",
    "target_list = [i[1] for i in edge_list_counter.keys()]\n",
    "value_list = [i for i in edge_list_counter.values()]\n",
    "\n",
    "nodes = []\n",
    "for row in edge_list:\n",
    "    for col in row:\n",
    "        if col not in nodes:\n",
    "            nodes.append(col)           \n",
    "            \n",
    "sources = []\n",
    "for i in source_list:\n",
    "       sources.append(nodes.index(i))\n",
    "targets = []\n",
    "for i in target_list:\n",
    "        targets.append(nodes.index(i))\n",
    "values = value_list\n",
    "\n",
    "fig = go.Figure(data=[go.Sankey(\n",
    "    node = dict(\n",
    "      label = [nodes[item].split(\"|\")[0] for item in range(len(nodes))],\n",
    "    ),\n",
    "    link = dict(\n",
    "      source = sources,\n",
    "      target = targets,\n",
    "      value = values\n",
    "  ))])\n",
    "\n",
    "fig.show()"
   ]
  },
  {
   "cell_type": "markdown",
   "id": "9bd03731",
   "metadata": {},
   "source": [
    "# WIP"
   ]
  },
  {
   "cell_type": "code",
   "execution_count": null,
   "id": "dc8b6cdd",
   "metadata": {},
   "outputs": [],
   "source": [
    "x = [hashlib.md5('_'.join(log['path']).encode('utf-8')).digest() for log in finalSegments['...'].values()]\n",
    "y = [hashlib.md5('_'.join(log['path']).encode('utf-8')).digest() for log in finalSegments['...'].values()]\n",
    "set(x) & set (y)"
   ]
  },
  {
   "cell_type": "code",
   "execution_count": null,
   "id": "8fbf9bbb",
   "metadata": {},
   "outputs": [],
   "source": [
    "x = ['_'.join(log['path']) for log in finalSegments['...'].values()]\n",
    "y = ['_'.join(log['path']) for log in finalSegments['...'].values()]\n",
    "set(x) & set(y)"
   ]
  },
  {
   "cell_type": "code",
   "execution_count": null,
   "id": "eb1e095c",
   "metadata": {},
   "outputs": [],
   "source": [
    "nx.graph_edit_distance(G_segmentN, G_segmentN)"
   ]
  },
  {
   "cell_type": "code",
   "execution_count": null,
   "id": "3f79c272",
   "metadata": {},
   "outputs": [],
   "source": [
    "for v in nx.optimize_graph_edit_distance(G_segmentN, G_segmentN):\n",
    "    minv = v\n",
    "minv"
   ]
  }
 ],
 "metadata": {
  "kernelspec": {
   "display_name": "Python 3",
   "language": "python",
   "name": "python3"
  },
  "language_info": {
   "codemirror_mode": {
    "name": "ipython",
    "version": 3
   },
   "file_extension": ".py",
   "mimetype": "text/x-python",
   "name": "python",
   "nbconvert_exporter": "python",
   "pygments_lexer": "ipython3",
   "version": "3.8.8"
  }
 },
 "nbformat": 4,
 "nbformat_minor": 5
}
