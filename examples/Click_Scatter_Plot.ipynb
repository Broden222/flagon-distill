{
 "cells": [
  {
   "cell_type": "markdown",
   "id": "31837556",
   "metadata": {},
   "source": [
    "## Imports Used in this Example\n",
    "Below we import the necessary packages needed for this example.  Note that the `sys` module is necessary to allow us to append the system path and thus import distill.  If distill was installed on the machine directly, this would not be necessary."
   ]
  },
  {
   "cell_type": "code",
   "execution_count": 33,
   "id": "5c2b4f1c",
   "metadata": {},
   "outputs": [],
   "source": [
    "import sys\n",
    "sys.path.append('../')\n",
    "\n",
    "import datetime\n",
    "import distill\n",
    "import json\n",
    "import pandas as pd\n",
    "import matplotlib.pyplot as plt"
   ]
  },
  {
   "cell_type": "markdown",
   "id": "5552a176",
   "metadata": {},
   "source": [
    "### Processing the JSON File"
   ]
  },
  {
   "cell_type": "markdown",
   "id": "e552fe5e",
   "metadata": {},
   "source": [
    "The `filtered_setup` function is used to convert a JSON file into a dictionary.  It also allows us to assert the date format that we want to use for our analysis (i.e., integer or datetime). This function also filters out all logs that are not `raw` `clicks`"
   ]
  },
  {
   "cell_type": "code",
   "execution_count": 34,
   "id": "7335a793",
   "metadata": {},
   "outputs": [],
   "source": [
    "def filtered_setup(file, date_type):\n",
    "\n",
    "    with open(file) as json_file:\n",
    "            raw_data = json.load(json_file)\n",
    "\n",
    "    # filter\n",
    "    filtered_data = []        \n",
    "\n",
    "    for log in raw_data:\n",
    "        if log['logType'] == 'raw':\n",
    "            if log['type'] == 'click':\n",
    "                filtered_data.append(log)\n",
    "    data = {}\n",
    "    for log in filtered_data:\n",
    "            # UUID = sessionID + clientTime + logType + type\n",
    "            data[distill.getUUID(log)] = log\n",
    "\n",
    "    for uid in data:\n",
    "        # get the log\n",
    "        log = data[uid]\n",
    "        # get log's clientTime\n",
    "        client_time = log['clientTime']\n",
    "        # convert the log's datetime\n",
    "        if date_type == \"integer\":\n",
    "            log['clientTime'] = distill.epoch_to_datetime(client_time)\n",
    "        elif date_type == \"datetime\":\n",
    "            log['clientTime'] = pd.to_datetime(client_time, unit='ms', origin='unix')\n",
    "\n",
    "    # Sort data based off clientTime, return dict\n",
    "    sorted_data = sorted(data.items(), key=lambda kv: kv[1]['clientTime'])\n",
    "    sorted_dict = dict(sorted_data)\n",
    "\n",
    "    return sorted_dict    "
   ]
  },
  {
   "cell_type": "markdown",
   "id": "2f5a55a6",
   "metadata": {},
   "source": [
    "### Generating the Scatter Plot\n",
    "The `click_plot` function inputs `sorted_dict` and returns a scatter plot that represents all clicks on a screen.\n"
   ]
  },
  {
   "cell_type": "code",
   "execution_count": 35,
   "id": "a1769962",
   "metadata": {},
   "outputs": [],
   "source": [
    "def click_plot(sorted_dict):\n",
    "    xy_values = []\n",
    "    res_values = []\n",
    "    \n",
    "    for key, value in sorted_dict.items():\n",
    "        if \"location\" in value:\n",
    "            if \"x\" in value[\"location\"] and \"y\" in value[\"location\"]:\n",
    "                xy_values.append((value[\"location\"][\"x\"], value[\"location\"][\"y\"]))\n",
    "            if \"width\" in value[\"scrnRes\"] and \"height\" in value[\"scrnRes\"]:\n",
    "                if (value[\"scrnRes\"][\"width\"], value[\"scrnRes\"][\"height\"]) not in res_values:\n",
    "                    res_values.append((value[\"scrnRes\"][\"width\"], value[\"scrnRes\"][\"height\"]))\n",
    "    \n",
    "    x = [x[0] for x in xy_values]\n",
    "    y = [y[1] for y in xy_values]\n",
    "    x_range, y_range = res_values[0]\n",
    "    \n",
    "    plt.scatter(x, y, color='red')\n",
    "    plt.xlim(0, x_range)\n",
    "    plt.ylim(0, y_range)\n",
    "    plt.xlabel('Screen Width ({})'.format(x_range))\n",
    "    plt.ylabel('Screen Height ({})'.format(y_range))\n",
    "    plt.show()"
   ]
  },
  {
   "cell_type": "markdown",
   "id": "a7299548",
   "metadata": {},
   "source": [
    "### Testing with a sample log"
   ]
  },
  {
   "cell_type": "code",
   "execution_count": 37,
   "id": "4edeb4dd",
   "metadata": {},
   "outputs": [
    {
     "data": {
      "image/png": "[encoded data removed]",
      "text/plain": [
       "<Figure size 640x480 with 1 Axes>"
      ]
     },
     "metadata": {},
     "output_type": "display_data"
    }
   ],
   "source": [
    "data_many_session = filtered_setup(\"./data/task_example.json\", \"datetime\")\n",
    "sorted_dict = data_many_session\n",
    "\n",
    "click_plot(sorted_dict)"
   ]
  },
  {
   "cell_type": "code",
   "execution_count": null,
   "id": "c976816a",
   "metadata": {},
   "outputs": [],
   "source": []
  }
 ],
 "metadata": {
  "kernelspec": {
   "display_name": "Python 3 (ipykernel)",
   "language": "python",
   "name": "python3"
  },
  "language_info": {
   "codemirror_mode": {
    "name": "ipython",
    "version": 3
   },
   "file_extension": ".py",
   "mimetype": "text/x-python",
   "name": "python",
   "nbconvert_exporter": "python",
   "pygments_lexer": "ipython3",
   "version": "3.9.13"
  }
 },
 "nbformat": 4,
 "nbformat_minor": 5
}
