{
 "cells": [
  {
   "cell_type": "markdown",
   "id": "83034970",
   "metadata": {},
   "source": [
    "# Distill Example"
   ]
  },
  {
   "cell_type": "markdown",
   "id": "0809cd43",
   "metadata": {},
   "source": []
  },
  {
   "cell_type": "markdown",
   "id": "ab160322",
   "metadata": {},
   "source": [
    "## Imports ##"
   ]
  },
  {
   "cell_type": "code",
   "execution_count": 1,
   "id": "216e3015",
   "metadata": {},
   "outputs": [],
   "source": [
    "import json\n",
    "import distill\n",
    "import pandas as pd"
   ]
  },
  {
   "cell_type": "markdown",
   "id": "d4b8de1c",
   "metadata": {},
   "source": [
    "## Data Setup ##"
   ]
  },
  {
   "cell_type": "code",
   "execution_count": 2,
   "id": "20cf3107",
   "metadata": {},
   "outputs": [],
   "source": [
    "with open('./tests/data/sample_data.json') as json_file:\n",
    "    raw_data = json.load(json_file)\n",
    "\n",
    "data = {}\n",
    "for log in raw_data:\n",
    "    data[distill.getUUID(log)] = log\n",
    "\n",
    "# Convert clientTime to specified type\n",
    "date_type = \"integer\"\n",
    "for uid in data:\n",
    "    log = data[uid]\n",
    "    client_time = log['clientTime']\n",
    "    if date_type == \"integer\":\n",
    "        log['clientTime'] = distill.epoch_to_datetime(client_time)\n",
    "    elif date_type == \"datetime\":\n",
    "        log['clientTime'] = pd.to_datetime(client_time, unit='ms', origin='unix')\n",
    "    elif date_type == \"string\":\n",
    "        log['clientTime'] = str(client_time)\n",
    "\n",
    "# Sort\n",
    "sorted_data = sorted(data.items(), key=lambda kv: kv[1]['clientTime'])\n",
    "sorted_dict = dict(sorted_data)"
   ]
  },
  {
   "cell_type": "markdown",
   "id": "304afa9f",
   "metadata": {},
   "source": [
    "## Making Toy Segments ##"
   ]
  },
  {
   "cell_type": "code",
   "execution_count": 3,
   "id": "1c885d33",
   "metadata": {},
   "outputs": [
    {
     "name": "stdout",
     "output_type": "stream",
     "text": [
      "Segments: [\n",
      "Segment: name=generated0, num_logs=3, start=1623691890656, end=1623691895656, type=Segment_Type.FIXED_TIME\n",
      "Segment: name=generated1, num_logs=0, start=1623691895656, end=1623691900656, type=Segment_Type.FIXED_TIME\n",
      "Segment: name=generated2, num_logs=9, start=1623691900656, end=1623691905656, type=Segment_Type.FIXED_TIME\n",
      "Segment: name=generated3, num_logs=7, start=1623691905656, end=1623691910656, type=Segment_Type.FIXED_TIME\n",
      "]\n"
     ]
    }
   ],
   "source": [
    "segments = distill.generate_fixed_time_segments(sorted_dict, 5, label=\"generated\")\n",
    "\n",
    "print(segments)"
   ]
  },
  {
   "cell_type": "markdown",
   "id": "11aece9d",
   "metadata": {},
   "source": [
    "### Returning Segments object ###"
   ]
  },
  {
   "cell_type": "code",
   "execution_count": 15,
   "id": "22050714",
   "metadata": {},
   "outputs": [
    {
     "data": {
      "text/plain": [
       "distill.segmentation.segments.Segments"
      ]
     },
     "execution_count": 15,
     "metadata": {},
     "output_type": "execute_result"
    }
   ],
   "source": [
    "type(segments)"
   ]
  },
  {
   "cell_type": "markdown",
   "id": "94dde831",
   "metadata": {},
   "source": [
    "### Iteration ###"
   ]
  },
  {
   "cell_type": "code",
   "execution_count": 16,
   "id": "a4e36011",
   "metadata": {},
   "outputs": [
    {
     "name": "stdout",
     "output_type": "stream",
     "text": [
      "generated0\n",
      "generated1\n",
      "generated2\n",
      "generated3\n"
     ]
    }
   ],
   "source": [
    "for segment in segments:\n",
    "    print(segment.get_segment_name())"
   ]
  },
  {
   "cell_type": "code",
   "execution_count": 17,
   "id": "67d26878",
   "metadata": {},
   "outputs": [
    {
     "name": "stdout",
     "output_type": "stream",
     "text": [
      "3\n",
      "0\n",
      "9\n",
      "7\n"
     ]
    }
   ],
   "source": [
    "for segment in segments:\n",
    "    print(segment.get_num_logs())"
   ]
  },
  {
   "cell_type": "markdown",
   "id": "4fac06f7",
   "metadata": {},
   "source": [
    "### List Comprehensions should work as normal directly with the `Segments` object ###"
   ]
  },
  {
   "cell_type": "code",
   "execution_count": 18,
   "id": "05b5c341",
   "metadata": {},
   "outputs": [
    {
     "name": "stdout",
     "output_type": "stream",
     "text": [
      "[3, 0, 9, 7]\n"
     ]
    }
   ],
   "source": [
    "number_of_logs = [segment.num_logs for segment in segments]\n",
    "print(number_of_logs)"
   ]
  },
  {
   "cell_type": "code",
   "execution_count": 19,
   "id": "4dc36ee4",
   "metadata": {},
   "outputs": [
    {
     "name": "stdout",
     "output_type": "stream",
     "text": [
      "['generated0', 'generated1', 'generated2', 'generated3']\n"
     ]
    }
   ],
   "source": [
    "segment_names = [segment.segment_name for segment in segments]\n",
    "print(segment_names)"
   ]
  },
  {
   "cell_type": "markdown",
   "id": "458dceb4",
   "metadata": {},
   "source": [
    "### Using Subscripts ###"
   ]
  },
  {
   "cell_type": "code",
   "execution_count": 20,
   "id": "2e6c3893",
   "metadata": {},
   "outputs": [
    {
     "name": "stdout",
     "output_type": "stream",
     "text": [
      "generated0\n",
      "generated1\n",
      "generated2\n",
      "generated3\n"
     ]
    }
   ],
   "source": [
    "print(segments[0].get_segment_name())\n",
    "print(segments[1].get_segment_name())\n",
    "print(segments[2].get_segment_name())\n",
    "print(segments[3].get_segment_name())"
   ]
  },
  {
   "cell_type": "markdown",
   "id": "5973c6f3",
   "metadata": {},
   "source": [
    "### `Segments` are Mutable ###"
   ]
  },
  {
   "cell_type": "code",
   "execution_count": 21,
   "id": "e9559607",
   "metadata": {},
   "outputs": [
    {
     "name": "stdout",
     "output_type": "stream",
     "text": [
      "Segments: [\n",
      "Segment: name=generated0, num_logs=3, start=1623691890656, end=1623691895656, type=Segment_Type.FIXED_TIME\n",
      "Segment: name=new_name, num_logs=0, start=1623691895656, end=1623691900656, type=Segment_Type.FIXED_TIME\n",
      "Segment: name=generated2, num_logs=9, start=1623691900656, end=1623691905656, type=Segment_Type.FIXED_TIME\n",
      "Segment: name=generated3, num_logs=7, start=1623691905656, end=1623691910656, type=Segment_Type.FIXED_TIME\n",
      "]\n"
     ]
    }
   ],
   "source": [
    "segments[1].segment_name = \"new_name\"\n",
    "\n",
    "print(segments)"
   ]
  },
  {
   "cell_type": "markdown",
   "id": "c60d7734",
   "metadata": {},
   "source": [
    "### `Segments` Filtering ###"
   ]
  },
  {
   "cell_type": "code",
   "execution_count": 22,
   "id": "8eab3ccd",
   "metadata": {},
   "outputs": [
    {
     "name": "stdout",
     "output_type": "stream",
     "text": [
      "Segments: [\n",
      "Segment: name=generated0, num_logs=3, start=1623691890656, end=1623691895656, type=Segment_Type.FIXED_TIME\n",
      "Segment: name=generated2, num_logs=9, start=1623691900656, end=1623691905656, type=Segment_Type.FIXED_TIME\n",
      "Segment: name=generated3, num_logs=7, start=1623691905656, end=1623691910656, type=Segment_Type.FIXED_TIME\n",
      "]\n"
     ]
    }
   ],
   "source": [
    "# Let's say we don't want segments with less than 3 logs\n",
    "num_logs_segments = segments.get_num_logs(3)\n",
    "\n",
    "print(num_logs_segments)"
   ]
  },
  {
   "cell_type": "code",
   "execution_count": 23,
   "id": "3349ac66",
   "metadata": {},
   "outputs": [
    {
     "name": "stdout",
     "output_type": "stream",
     "text": [
      "Segments: [\n",
      "Segment: name=generated0, num_logs=3, start=1623691890656, end=1623691895656, type=Segment_Type.FIXED_TIME\n",
      "Segment: name=generated2, num_logs=9, start=1623691900656, end=1623691905656, type=Segment_Type.FIXED_TIME\n",
      "Segment: name=generated3, num_logs=7, start=1623691905656, end=1623691910656, type=Segment_Type.FIXED_TIME\n",
      "]\n"
     ]
    }
   ],
   "source": [
    "# We could also modify the orig segments object itself\n",
    "segments = segments.get_num_logs(3)\n",
    "print(segments)"
   ]
  },
  {
   "cell_type": "markdown",
   "id": "f2105285",
   "metadata": {},
   "source": [
    "## Return different data structures ##"
   ]
  },
  {
   "cell_type": "markdown",
   "id": "34cd7a1c",
   "metadata": {},
   "source": [
    "### Dictionary: What we had before but might be obsolete now... ###"
   ]
  },
  {
   "cell_type": "code",
   "execution_count": 24,
   "id": "1bde1d1f",
   "metadata": {},
   "outputs": [
    {
     "name": "stdout",
     "output_type": "stream",
     "text": [
      "[<distill.segmentation.segment.Segment object at 0x7fa398980b80>, <distill.segmentation.segment.Segment object at 0x7fa398980940>, <distill.segmentation.segment.Segment object at 0x7fa398980a00>]\n",
      "key=generated0, value=Segment: name=generated0, num_logs=3, start=1623691890656, end=1623691895656, type=Segment_Type.FIXED_TIME\n",
      "key=generated2, value=Segment: name=generated2, num_logs=9, start=1623691900656, end=1623691905656, type=Segment_Type.FIXED_TIME\n",
      "key=generated3, value=Segment: name=generated3, num_logs=7, start=1623691905656, end=1623691910656, type=Segment_Type.FIXED_TIME\n"
     ]
    }
   ],
   "source": [
    "segments_dict = segments.get_segment_name_dict()\n",
    "\n",
    "for segment_name in segments_dict:\n",
    "    print(\"key=\" + str(segment_name) + \", value=\" + str(segments_dict[segment_name]))"
   ]
  },
  {
   "cell_type": "markdown",
   "id": "c42712fb",
   "metadata": {},
   "source": [
    "### List of Segments ###"
   ]
  },
  {
   "cell_type": "code",
   "execution_count": 26,
   "id": "57cc36ad",
   "metadata": {},
   "outputs": [
    {
     "name": "stdout",
     "output_type": "stream",
     "text": [
      "[<distill.segmentation.segment.Segment object at 0x7fa398980b80>, <distill.segmentation.segment.Segment object at 0x7fa398980940>, <distill.segmentation.segment.Segment object at 0x7fa398980a00>]\n"
     ]
    }
   ],
   "source": [
    "# Still prints as the object since we are printing the list\n",
    "segments_list = segments.get_segment_list()\n",
    "print(segments_list)"
   ]
  },
  {
   "cell_type": "code",
   "execution_count": null,
   "id": "25b7d094",
   "metadata": {},
   "outputs": [],
   "source": []
  }
 ],
 "metadata": {
  "kernelspec": {
   "display_name": "Python 3",
   "language": "python",
   "name": "python3"
  },
  "language_info": {
   "codemirror_mode": {
    "name": "ipython",
    "version": 3
   },
   "file_extension": ".py",
   "mimetype": "text/x-python",
   "name": "python",
   "nbconvert_exporter": "python",
   "pygments_lexer": "ipython3",
   "version": "3.8.8"
  }
 },
 "nbformat": 4,
 "nbformat_minor": 5
}
