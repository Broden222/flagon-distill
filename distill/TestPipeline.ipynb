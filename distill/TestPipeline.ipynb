{
 "cells": [
  {
   "cell_type": "code",
   "execution_count": null,
   "id": "60af4d4b",
   "metadata": {},
   "outputs": [],
   "source": [
    "from elasticsearch import Elasticsearch\n",
    "from elasticsearch_dsl import connections\n",
    "from elasticsearch_dsl import Search\n",
    "from elasticsearch_dsl import Q\n",
    "from elasticsearch_dsl.query import MultiMatch, Match\n",
    "from collections import Counter, deque\n",
    "from itertools import count\n",
    "from uuid import uuid4\n",
    "import segment\n",
    "\n",
    "import numpy as np\n",
    "import pandas as pd\n",
    "from pandas.io.json import json_normalize\n",
    "import json\n",
    "import itertools\n",
    "import networkx as nx\n",
    "import hashlib, base64\n",
    "import plotly.graph_objects as go"
   ]
  },
  {
   "cell_type": "code",
   "execution_count": null,
   "id": "a9ec2c59",
   "metadata": {},
   "outputs": [],
   "source": [
    "def epoch_to_datetime(epoch_string):\n",
    "    \"\"\"\n",
    "    Turns Unix/Epoch DateTime string into a pandas date-time object\n",
    "    :param epoch_string: Unix/Epoch DateTime string (e.g., UserALE:clientTime)\n",
    "    :return: Pandas DateTime object\n",
    "    \"\"\"\n",
    "    new_datetime = (pd.to_datetime(epoch_string, unit='ms', origin='unix') \\\n",
    "                             - pd.Timestamp('1970-01-01')) // pd.Timedelta('1ms')\n",
    "    return new_datetime"
   ]
  },
  {
   "cell_type": "code",
   "execution_count": null,
   "id": "18a6fcb6",
   "metadata": {},
   "outputs": [],
   "source": [
    "def getUID(log):\n",
    "    return str(log['sessionID']) + str(log['clientTime']) + str(log[\"logType\"]) + str(log[\"type\"])"
   ]
  },
  {
   "cell_type": "code",
   "execution_count": null,
   "id": "efa06bf7",
   "metadata": {},
   "outputs": [],
   "source": [
    "def find_meta_values(key, dict, *, unique: bool = True):\n",
    "    \"\"\"\n",
    "    Uses List Comprehension to list all unique values for the given key in a dict,\n",
    "    assuming nested dict of dicts with depth = 2, e.g., {k:{k:v, ...}, ...}\n",
    "    :param key: a dict key to find values for\n",
    "    :param dict: a nested dictionary of depth 2 (dict of dicts)\n",
    "    :param unique: (optional, default == True) if False returns all values for the given key\n",
    "    :return: a list object with values for given key\n",
    "    \"\"\"\n",
    "    value_list = [sub[key] for sub in dict.values() for v in sub.keys()]\n",
    "    if unique == True:\n",
    "        value_set = set(value_list)\n",
    "        return list(value_set)\n",
    "    if unique == False:\n",
    "        return value_list"
   ]
  },
  {
   "cell_type": "code",
   "execution_count": null,
   "id": "37a5cb6e",
   "metadata": {},
   "outputs": [],
   "source": [
    "def createDiGraph(nodes, edges, *, drop_recursions: bool = False):\n",
    "    \"\"\"\n",
    "    Creates NetworkX Directed Graph Object (G) from defined node, edge list\n",
    "    :param nodes: Series or List of Events, Elements\n",
    "    :param edges: Series or List of Pairs\n",
    "    :param drop_recursions: if True eliminates self:self pairs in edges\n",
    "    :return: A NetworkX graph object\n",
    "    \"\"\"\n",
    "    G=nx.DiGraph()\n",
    "    G.add_nodes_from(nodes)\n",
    "    if drop_recursions==True:\n",
    "        edges_filtered = []\n",
    "        for row in edges:\n",
    "            if row[0] != row[1]:\n",
    "                edges_filtered.append(row)\n",
    "        G.add_edges_from(edges_filtered)\n",
    "        return G\n",
    "    else:\n",
    "        G.add_edges_from(edges)\n",
    "        return G\n"
   ]
  },
  {
   "cell_type": "code",
   "execution_count": null,
   "id": "b603e6e3",
   "metadata": {},
   "outputs": [],
   "source": [
    "def pairwiseStag(iterable, *, split: bool = False):\n",
    "    '''\n",
    "    Creates sequence of staggered, pairwise tuples for edge-lists: \"s -> (s0, s1), (s2, s3), (s4, s5), ...\"\n",
    "    :param iterable: a series or list\n",
    "    :param split: split=True returns pairwise elements in two separate lists of same len (default=False)\n",
    "    :return: returns list object(s)\n",
    "    '''\n",
    "    a = iter(iterable)\n",
    "    pairs = zip(a, a)\n",
    "    if split==True:\n",
    "        list1, list2 = zip(*pairs)\n",
    "        return list1, list2\n",
    "    else:\n",
    "        return list(pairs)"
   ]
  },
  {
   "cell_type": "code",
   "execution_count": null,
   "id": "57390730",
   "metadata": {},
   "outputs": [],
   "source": [
    "def pairwiseSeq(iterable, *, split: bool = False):\n",
    "    \"\"\"\n",
    "    Creates sequence of pairwise tuples that can be used as edge-lists: \"s -> (s0, s1), (s1, s2), (s2, s3), ...\"\n",
    "    :param iterable: a series or list\n",
    "    :param split=True returns pairwise elements in two separate lists of same len (default=False)\n",
    "    :return: returns list object(s)\n",
    "    \"\"\"\n",
    "    a, b = itertools.tee(iterable, 2)\n",
    "    next(b, None)\n",
    "    pairs = zip(a, b)\n",
    "    if split==True:\n",
    "        list1, list2 = zip(*pairs)\n",
    "        return list1, list2\n",
    "    else:\n",
    "        return list(pairs)"
   ]
  },
  {
   "cell_type": "markdown",
   "id": "b55f549a",
   "metadata": {},
   "source": [
    "# Define Search"
   ]
  },
  {
   "cell_type": "markdown",
   "id": "e5359a48",
   "metadata": {},
   "source": [
    "create new connection to test instance, given an alias 'flagonTest' for later reference\n",
    "note: connections are easy enough such that examples are enough, no need for further abstraction"
   ]
  },
  {
   "cell_type": "code",
   "execution_count": null,
   "id": "f8eed107",
   "metadata": {},
   "outputs": [],
   "source": [
    "flagonClient = connections.create_connection('flagonTest', hosts=['localhost:9200'], timeout=60)\n",
    "\n",
    "#TODO describeabs connections\n",
    "\n",
    "#hello world test\n",
    "print(flagonClient)"
   ]
  },
  {
   "cell_type": "code",
   "execution_count": null,
   "id": "6caa6227",
   "metadata": {},
   "outputs": [],
   "source": [
    "AleS = Search(using='flagonTest', index=\"userale\")"
   ]
  },
  {
   "cell_type": "markdown",
   "id": "63f4b599",
   "metadata": {},
   "source": [
    "# Define Queries"
   ]
  },
  {
   "cell_type": "markdown",
   "id": "88c2b4ea",
   "metadata": {},
   "source": [
    "## Simple Queries"
   ]
  },
  {
   "cell_type": "code",
   "execution_count": null,
   "id": "85cbdaf0",
   "metadata": {},
   "outputs": [],
   "source": [
    "qLogType = Q(\"match\", logType=\"raw\") | Q(\"match\", logType=\"custom\")\n",
    "print(qLogType)"
   ]
  },
  {
   "cell_type": "code",
   "execution_count": null,
   "id": "f3db4b61",
   "metadata": {},
   "outputs": [],
   "source": [
    "qUserId = Q(\"match\", userId=\"superset-user\")\n",
    "print(qUserId)"
   ]
  },
  {
   "cell_type": "code",
   "execution_count": null,
   "id": "a9fa6510",
   "metadata": {},
   "outputs": [],
   "source": [
    "qExcludeSession = Q(\"match\", sessionID=\"\") & Q(\"match\", sessionID=\"\")\n",
    "print(qExcludeSession)"
   ]
  },
  {
   "cell_type": "markdown",
   "id": "d8f18d58",
   "metadata": {},
   "source": [
    "## Not-As-Simple Queries"
   ]
  },
  {
   "cell_type": "code",
   "execution_count": null,
   "id": "4395ae4a",
   "metadata": {},
   "outputs": [],
   "source": [
    "qUrl = Q({\"wildcard\": {\n",
    "    \"pageUrl\": {\n",
    "        \"value\": \"*localhost:8088/superset/dashboard*\"\n",
    "    }\n",
    "}})\n",
    "print(qUrl)"
   ]
  },
  {
   "cell_type": "markdown",
   "id": "cb039d1b",
   "metadata": {},
   "source": [
    "# Define Filters"
   ]
  },
  {
   "cell_type": "code",
   "execution_count": null,
   "id": "1ae3df5f",
   "metadata": {},
   "outputs": [],
   "source": [
    "filterEvents = Q('bool', filter=[~Q('terms', type=['mouseover','wheel','keydown','scroll'])])\n",
    "print(filterEvents)"
   ]
  },
  {
   "cell_type": "markdown",
   "id": "218dcf93",
   "metadata": {},
   "source": [
    "# Chained Searches"
   ]
  },
  {
   "cell_type": "markdown",
   "id": "94521da8",
   "metadata": {},
   "source": []
  },
  {
   "cell_type": "code",
   "execution_count": null,
   "id": "0afab6a0",
   "metadata": {},
   "outputs": [],
   "source": [
    "elk_search = AleS \\\n",
    "    .query(qUrl) \\\n",
    "    .query(qLogType) \\\n",
    "    .query(qUserId) \\\n",
    "    .query(filterEvents) \\\n",
    "    .extra(track_total_hits=True) #breaks return limit of 10000 hits"
   ]
  },
  {
   "cell_type": "markdown",
   "id": "cfe9411a",
   "metadata": {},
   "source": [
    "NOTE: `.execute()` will only retreive the first 10 hits with additional terms embedded in queries. Use `.scan()` instead if you want to retreive all the hits. We use `.execute()` below for brevity."
   ]
  },
  {
   "cell_type": "code",
   "execution_count": null,
   "id": "7401817d",
   "metadata": {},
   "outputs": [],
   "source": [
    "ale_dict = {}\n",
    "elk_response = elk_search.scan()\n",
    "for hit in elk_response:\n",
    "    logEntry = (hit.to_dict())\n",
    "    logEntry['uid'] = getUID(logEntry)\n",
    "    logEntry['clientTime'] = epoch_to_datetime(logEntry['clientTime'])\n",
    "    ctr = len(ale_dict)\n",
    "    ctr += 1\n",
    "    ale_dict[ctr] = logEntry\n",
    "\n",
    "print(len(ale_dict))"
   ]
  },
  {
   "cell_type": "markdown",
   "id": "b761d6ca",
   "metadata": {},
   "source": [
    "# Data Forensics"
   ]
  },
  {
   "cell_type": "markdown",
   "id": "70be5279",
   "metadata": {},
   "source": []
  },
  {
   "cell_type": "code",
   "execution_count": null,
   "id": "be808aef",
   "metadata": {},
   "outputs": [],
   "source": [
    "sorted_data = dict(sorted(ale_dict.items(), key = lambda kv: kv[1]['clientTime']))"
   ]
  },
  {
   "cell_type": "code",
   "execution_count": null,
   "id": "bae89caf",
   "metadata": {},
   "outputs": [],
   "source": [
    "sessions = find_meta_values('sessionID', sorted_data)\n",
    "sessions"
   ]
  },
  {
   "cell_type": "code",
   "execution_count": null,
   "id": "ed519ff9",
   "metadata": {},
   "outputs": [],
   "source": [
    "users = find_meta_values('userId', sorted_data)\n",
    "users "
   ]
  },
  {
   "cell_type": "markdown",
   "id": "ecac79e3",
   "metadata": {},
   "source": [
    "# Segmentation"
   ]
  },
  {
   "cell_type": "markdown",
   "id": "88ce5004",
   "metadata": {},
   "source": []
  },
  {
   "cell_type": "code",
   "execution_count": null,
   "id": "76139d82",
   "metadata": {},
   "outputs": [],
   "source": [
    "values = ['path']\n",
    "sorted_data_paths = {k:v for k, v in sorted_data.items() if any(item in values for item in v.keys())}\n",
    "len(sorted_data_paths)"
   ]
  },
  {
   "cell_type": "markdown",
   "id": "3e07bbef",
   "metadata": {},
   "source": []
  },
  {
   "cell_type": "code",
   "execution_count": null,
   "id": "6bf84749",
   "metadata": {},
   "outputs": [],
   "source": [
    "values = ['click']\n",
    "sorted_data_paths_clicks = {k:v for k, v in sorted_data_paths.items() if any(item in values for item in v.values())}\n",
    "len(sorted_data_paths_clicks)"
   ]
  },
  {
   "cell_type": "markdown",
   "id": "e19bbf2d",
   "metadata": {},
   "source": []
  },
  {
   "cell_type": "code",
   "execution_count": null,
   "id": "ebc64dc2",
   "metadata": {},
   "outputs": [],
   "source": [
    "value = '...'\n",
    "segment_times = pairwiseStag([log['clientTime'] for log in sorted_data_paths_clicks.values() if value in log['path']])\n",
    "len(semiAuto_times)"
   ]
  },
  {
   "cell_type": "code",
   "execution_count": null,
   "id": "1b220fd0",
   "metadata": {},
   "outputs": [],
   "source": [
    "segment_names = []\n",
    "for i in range(0,len(segment_times),1):\n",
    "    segment_names.append(str(\"segment\" + str(i)))"
   ]
  },
  {
   "cell_type": "code",
   "execution_count": null,
   "id": "8afa6866",
   "metadata": {},
   "outputs": [],
   "source": [
    "testSegment = segment.Segment.create_segment(sorted_data_paths_clicks, segment_names, segment_times)\n",
    "for d in testSegment.values():\n",
    "    print(d.segment_name, d.start_end_val, d.num_logs)"
   ]
  },
  {
   "cell_type": "code",
   "execution_count": null,
   "id": "20ab036f",
   "metadata": {},
   "outputs": [],
   "source": [
    "segment_names_2 = []\n",
    "segment_times_2 = []\n",
    "for d in testSegment.values():\n",
    "    if d.num_logs > 20:\n",
    "        segment_names_2.append(d.segment_name)\n",
    "        segment_times_2.append(d.start_end_val)"
   ]
  },
  {
   "cell_type": "code",
   "execution_count": null,
   "id": "3ad9c6af",
   "metadata": {},
   "outputs": [],
   "source": [
    "finalSegments = segment.Segment.write_segment(sorted_data_paths_clicks, segment_names_2, segment_times_2)\n",
    "finalSegments.keys()"
   ]
  },
  {
   "cell_type": "markdown",
   "id": "26915660",
   "metadata": {},
   "source": [
    "# Graphs and Stats"
   ]
  },
  {
   "cell_type": "code",
   "execution_count": null,
   "id": "17476fd9",
   "metadata": {},
   "outputs": [],
   "source": [
    "edges_segmentN = pairwiseSeq(['|'.join(log['path']) for log in finalSegments['...'].values()])\n",
    "edges_segmentN = pairwiseSeq(['|'.join(log['path']) for log in finalSegments['...'].values()])"
   ]
  },
  {
   "cell_type": "code",
   "execution_count": null,
   "id": "bb75016c",
   "metadata": {},
   "outputs": [],
   "source": [
    "nodes_segmentN = set(['|'.join(log['path']) for log in finalSegments['...'].values()])\n",
    "nodes_segmentN = set(['|'.join(log['path']) for log in finalSegments['...'].values()])"
   ]
  },
  {
   "cell_type": "code",
   "execution_count": null,
   "id": "a1140db2",
   "metadata": {},
   "outputs": [],
   "source": [
    "G_segmentN = createDiGraph(nodes_semiAuto5, edges_segmentN, drop_recursions = False)\n",
    "G_segmentN = createDiGraph(nodes_semiAuto3, edges_segmentN, drop_recursions = False)"
   ]
  },
  {
   "cell_type": "code",
   "execution_count": null,
   "id": "e7b2ecbf",
   "metadata": {},
   "outputs": [],
   "source": [
    "nx.draw(G_segmentN, with_labels=False)"
   ]
  },
  {
   "cell_type": "code",
   "execution_count": null,
   "id": "a81165c5",
   "metadata": {},
   "outputs": [],
   "source": [
    "nx.draw(G_segmentN, with_labels=False)"
   ]
  },
  {
   "cell_type": "code",
   "execution_count": null,
   "id": "839167fc",
   "metadata": {},
   "outputs": [],
   "source": [
    "nx.average_node_connectivity(G_segmentN)"
   ]
  },
  {
   "cell_type": "markdown",
   "id": "db537c67",
   "metadata": {},
   "source": [
    "# Enhanced Visualization"
   ]
  },
  {
   "cell_type": "markdown",
   "id": "a06bf50a",
   "metadata": {},
   "source": []
  },
  {
   "cell_type": "code",
   "execution_count": null,
   "id": "348e3a5b",
   "metadata": {},
   "outputs": [],
   "source": [
    "edge_list_temp = []\n",
    "for row in edges_segmentN:\n",
    "    if row[0] != row[1]: \n",
    "        edge_list_temp.append(row)\n",
    "edge_list = edge_list_temp\n",
    "\n",
    "edge_list_counter = Counter(edge_list)\n",
    "\n",
    "source_list = [i[0] for i in edge_list_counter.keys()]\n",
    "target_list = [i[1] for i in edge_list_counter.keys()]\n",
    "value_list = [i for i in edge_list_counter.values()]\n",
    "\n",
    "nodes = []\n",
    "for row in edge_list:\n",
    "    for col in row:\n",
    "        if col not in nodes:\n",
    "            nodes.append(col)           \n",
    "            \n",
    "sources = []\n",
    "for i in source_list:\n",
    "       sources.append(nodes.index(i))\n",
    "targets = []\n",
    "for i in target_list:\n",
    "        targets.append(nodes.index(i))\n",
    "values = value_list\n",
    "\n",
    "fig = go.Figure(data=[go.Sankey(\n",
    "    node = dict(\n",
    "      label = [nodes[item].split(\"|\")[0] for item in range(len(nodes))],\n",
    "    ),\n",
    "    link = dict(\n",
    "      source = sources,\n",
    "      target = targets,\n",
    "      value = values\n",
    "  ))])\n",
    "\n",
    "fig.show()"
   ]
  },
  {
   "cell_type": "markdown",
   "id": "9bd03731",
   "metadata": {},
   "source": [
    "# WIP"
   ]
  },
  {
   "cell_type": "code",
   "execution_count": null,
   "id": "dc8b6cdd",
   "metadata": {},
   "outputs": [],
   "source": [
    "x = [hashlib.md5('_'.join(log['path']).encode('utf-8')).digest() for log in finalSegments['...'].values()]\n",
    "y = [hashlib.md5('_'.join(log['path']).encode('utf-8')).digest() for log in finalSegments['...'].values()]\n",
    "set(x) & set (y)"
   ]
  },
  {
   "cell_type": "code",
   "execution_count": null,
   "id": "8fbf9bbb",
   "metadata": {},
   "outputs": [],
   "source": [
    "x = ['_'.join(log['path']) for log in finalSegments['...'].values()]\n",
    "y = ['_'.join(log['path']) for log in finalSegments['...'].values()]\n",
    "set(x) & set(y)"
   ]
  },
  {
   "cell_type": "code",
   "execution_count": null,
   "id": "eb1e095c",
   "metadata": {},
   "outputs": [],
   "source": [
    "nx.graph_edit_distance(G_segmentN, G_segmentN)"
   ]
  },
  {
   "cell_type": "code",
   "execution_count": null,
   "id": "3f79c272",
   "metadata": {},
   "outputs": [],
   "source": [
    "for v in nx.optimize_graph_edit_distance(G_segmentN, G_segmentN):\n",
    "    minv = v\n",
    "minv"
   ]
  }
 ],
 "metadata": {
  "kernelspec": {
   "display_name": "Python 3",
   "language": "python",
   "name": "python3"
  },
  "language_info": {
   "codemirror_mode": {
    "name": "ipython",
    "version": 3
   },
   "file_extension": ".py",
   "mimetype": "text/x-python",
   "name": "python",
   "nbconvert_exporter": "python",
   "pygments_lexer": "ipython3",
   "version": "3.8.8"
  }
 },
 "nbformat": 4,
 "nbformat_minor": 5
}
